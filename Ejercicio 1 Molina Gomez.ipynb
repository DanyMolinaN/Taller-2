{
 "cells": [
  {
   "cell_type": "markdown",
   "id": "8aeaf6f6",
   "metadata": {},
   "source": [
    "<div style=\"text-align: center;\">\n",
    "\n",
    "## Escuela Politécnica Nacional\n",
    "\n",
    "</div>\n",
    "\n",
    "**Integrantes:** \n",
    "\n",
    " Kevin Gómez\n",
    "\n",
    " Dany Molina \n",
    "\n",
    "<div style=\"text-align: center;\">\n",
    "\n",
    "## Taller 2- Ejericio 1\n",
    "\n",
    "</div>\n"
   ]
  }
 ],
 "metadata": {
  "language_info": {
   "name": "python"
  }
 },
 "nbformat": 4,
 "nbformat_minor": 5
}
